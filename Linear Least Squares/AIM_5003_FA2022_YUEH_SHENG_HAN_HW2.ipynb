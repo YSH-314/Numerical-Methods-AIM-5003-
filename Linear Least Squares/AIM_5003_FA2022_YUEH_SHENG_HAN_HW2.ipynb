{
 "cells": [
  {
   "cell_type": "code",
   "execution_count": 1,
   "id": "5368e8dd",
   "metadata": {},
   "outputs": [],
   "source": [
    "import numpy as np\n",
    "import math\n",
    "import seaborn as sns\n",
    "import matplotlib.pyplot as plt"
   ]
  },
  {
   "cell_type": "markdown",
   "id": "0477f0f0",
   "metadata": {},
   "source": [
    "## 4.1 Least Squares and the Normal Equations\n",
    "* Exercises 2, 8, 9."
   ]
  },
  {
   "cell_type": "markdown",
   "id": "5ebb4211",
   "metadata": {},
   "source": [
    "### Exercises 2. Find the least squares solutions and RMSE of the following systems:\n",
    "(a)\n",
    "$\\begin{bmatrix}\n",
    "1 & 1 & 0 \\\\\n",
    "0 & 1 & 1 \\\\\n",
    "1 & 2 & 1 \\\\\n",
    "1 & 0 & 1\n",
    "\\end{bmatrix}  \\begin{bmatrix}\n",
    "x_1 \\\\\n",
    "x_2 \\\\\n",
    "x_3 \\\n",
    "\\end{bmatrix} = \\begin{bmatrix}\n",
    "2 \\\\\n",
    "2 \\\\\n",
    "3 \\\\\n",
    "4\n",
    "\\end{bmatrix}$  &emsp;&emsp;(b) $\\begin{bmatrix}\n",
    "1 & 0 & 1 \\\\\n",
    "1 & 0 & 2 \\\\\n",
    "1 & 1 & 1 \\\\\n",
    "2 & 1 & 1\n",
    "\\end{bmatrix}  \\begin{bmatrix}\n",
    "x_1 \\\\\n",
    "x_2 \\\\\n",
    "x_3 \\\n",
    "\\end{bmatrix} = \\begin{bmatrix}\n",
    "2 \\\\\n",
    "3 \\\\\n",
    "1 \\\\\n",
    "2\n",
    "\\end{bmatrix}$"
   ]
  },
  {
   "cell_type": "code",
   "execution_count": 2,
   "id": "c24be955",
   "metadata": {},
   "outputs": [],
   "source": [
    "def lss_RMSE(A,b):\n",
    "    x=np.linalg.solve(np.dot(A.T,A), np.dot(A.T,b))\n",
    "    r=b-np.dot(A,x)\n",
    "    sqrt_SE=np.linalg.norm(r)\n",
    "    RMSE=sqrt_SE/(r.shape[0]**0.5)\n",
    "    return x, RMSE, sqrt_SE, np.dot(A.T,A),np.dot(A.T,b)"
   ]
  },
  {
   "cell_type": "code",
   "execution_count": 3,
   "id": "3b3efb06",
   "metadata": {},
   "outputs": [
    {
     "name": "stdout",
     "output_type": "stream",
     "text": [
      "least square solution: [ 2.         -0.33333333  2.        ]\n",
      "RMSE: 0.2886751345948129\n"
     ]
    }
   ],
   "source": [
    "# (a)\n",
    "A=np.array([[1,1,0],[0,1,1],[1,2,1],[1,0,1]])\n",
    "b=np.array([2,2,3,4])\n",
    "res=lss_RMSE(A,b)\n",
    "print(f'least square solution: {res[0]}')\n",
    "print(f'RMSE: {res[1]}')"
   ]
  },
  {
   "cell_type": "code",
   "execution_count": 4,
   "id": "58cdc5da",
   "metadata": {},
   "outputs": [
    {
     "name": "stdout",
     "output_type": "stream",
     "text": [
      "least square solution: [ 1. -1.  1.]\n",
      "RMSE: 1.1102230246251565e-16\n"
     ]
    }
   ],
   "source": [
    "# (b)\n",
    "A=np.array([[1,0,1],[1,0,2],[1,1,1],[2,1,1]])\n",
    "b=np.array([2,3,1,2])\n",
    "res=lss_RMSE(A,b)\n",
    "print(f'least square solution: {res[0]}')\n",
    "print(f'RMSE: {res[1]}')"
   ]
  },
  {
   "cell_type": "markdown",
   "id": "3fca0ccd",
   "metadata": {},
   "source": [
    "### Exercises 8. Find the best line through each set of data points, and find the RMSE:\n",
    "(a) (0,0), (1,3), (2,3), (5,6)&emsp;(b) (1,2), (3,2), (4,1), (6,3)&emsp;(c) (0,5), (1,3), (2,3), (3,1)."
   ]
  },
  {
   "cell_type": "markdown",
   "id": "5964ad91",
   "metadata": {},
   "source": [
    "__$y = c_1 + c_2t$,  find $c_1 and c_2$ that the line will pass through points (t, y)__"
   ]
  },
  {
   "cell_type": "code",
   "execution_count": 5,
   "id": "41807478",
   "metadata": {},
   "outputs": [
    {
     "name": "stdout",
     "output_type": "stream",
     "text": [
      "best_fitting line: y=0.857+(1.071*t)\n",
      "RMSE: 0.6943650748294136\n"
     ]
    }
   ],
   "source": [
    "# (a)\n",
    "A=np.array([[1,0],[1,1],[1,2],[1,5]]) #c_1*1+c_2*t >> [1, t] coefficient of c_1 and c_2\n",
    "b=np.array([0,3,3,6]) # all the y\n",
    "c1, c2=lss_RMSE(A,b)[0]\n",
    "RMSE=lss_RMSE(A,b)[1]\n",
    "print(f'best_fitting line: y={round(c1,3)}+({round(c2,3)}*t)')\n",
    "print(f'RMSE: {RMSE}')\n",
    "a_RMSE_lin=RMSE"
   ]
  },
  {
   "cell_type": "code",
   "execution_count": 6,
   "id": "7e9a47f1",
   "metadata": {},
   "outputs": [
    {
     "name": "stdout",
     "output_type": "stream",
     "text": [
      "best_fitting line: y=1.462+(0.154*t)\n",
      "RMSE: 0.6504436355879909\n"
     ]
    }
   ],
   "source": [
    "# (b)\n",
    "A=np.array([[1,1],[1,3],[1,4],[1,6]])\n",
    "b=np.array([2,2,1,3])\n",
    "c1, c2=lss_RMSE(A,b)[0]\n",
    "RMSE=lss_RMSE(A,b)[1]\n",
    "print(f'best_fitting line: y={round(c1,3)}+({round(c2,3)}*t)')\n",
    "print(f'RMSE: {RMSE}')\n",
    "b_RMSE_lin=RMSE"
   ]
  },
  {
   "cell_type": "code",
   "execution_count": 7,
   "id": "afac580c",
   "metadata": {},
   "outputs": [
    {
     "name": "stdout",
     "output_type": "stream",
     "text": [
      "best_fitting line: y=4.8+(-1.2*t)\n",
      "RMSE: 0.4472135954999579\n"
     ]
    }
   ],
   "source": [
    "# (c)\n",
    "A=np.array([[1,0],[1,1],[1,2],[1,3]])\n",
    "b=np.array([5,3,3,1])\n",
    "c1, c2=lss_RMSE(A,b)[0]\n",
    "RMSE=lss_RMSE(A,b)[1]\n",
    "print(f'best_fitting line: y={round(c1,3)}+({round(c2,3)}*t)')\n",
    "print(f'RMSE: {RMSE}')\n",
    "c_RMSE_lin=RMSE"
   ]
  },
  {
   "cell_type": "markdown",
   "id": "25ddfa57",
   "metadata": {},
   "source": [
    "### Exercises 9. Find the best parabola through each data point set in Exercise 8, and compare the RMSE with the best-line fit.\n",
    "(a) (0,0), (1,3), (2,3), (5,6)&emsp;(b) (1,2), (3,2), (4,1), (6,3)&emsp;(c) (0,5), (1,3), (2,3), (3,1)."
   ]
  },
  {
   "cell_type": "markdown",
   "id": "2ff5e0be",
   "metadata": {},
   "source": [
    "__$y = c_1 + c_2t+c_3t^{2}$,  find $c_1, c_2, and c_3$ that the line will pass through points (t, y)__"
   ]
  },
  {
   "cell_type": "code",
   "execution_count": 8,
   "id": "00fdaf59",
   "metadata": {},
   "outputs": [
    {
     "name": "stdout",
     "output_type": "stream",
     "text": [
      "c1=0.3480662983425431, c2=1.9475138121546944, c3=-0.16574585635359088\n",
      "RMSE: 0.5518677477890186\n",
      "RMSE_linear minus RMSE_polynomial: 0.14249732704039497\n"
     ]
    }
   ],
   "source": [
    "# (a)\n",
    "A=np.array([[1,0,0],[1,1,1],[1,2,4],[1,5,25]]) #[1, t , t^2]\n",
    "b=np.array([0,3,3,6]) #[y]\n",
    "c1, c2, c3=lss_RMSE(A,b)[0]\n",
    "RMSE=lss_RMSE(A,b)[1]\n",
    "print(f'c1={c1}, c2={c2}, c3={c3}')\n",
    "print(f'RMSE: {RMSE}')\n",
    "a_RMSE_pol=RMSE\n",
    "print(f'RMSE_linear minus RMSE_polynomial: {a_RMSE_lin-a_RMSE_pol}')"
   ]
  },
  {
   "cell_type": "markdown",
   "id": "b6b2b634",
   "metadata": {},
   "source": [
    "__When fitting in a polynomial function, the RMSE is smaller than when fitting in a linear function.__"
   ]
  },
  {
   "cell_type": "code",
   "execution_count": 9,
   "id": "4d71dc40",
   "metadata": {},
   "outputs": [
    {
     "name": "stdout",
     "output_type": "stream",
     "text": [
      "c1=2.9615384615384603, c2=-1.0128205128205119, c3=0.16666666666666655\n",
      "RMSE: 0.41602514716892186\n",
      "RMSE_linear minus RMSE_polynomial: 0.23441848841906904\n"
     ]
    }
   ],
   "source": [
    "# (b)\n",
    "A=np.array([[1,1,1],[1,3,9],[1,4,16],[1,6,36]])\n",
    "b=np.array([2,2,1,3])\n",
    "c1, c2, c3=lss_RMSE(A,b)[0]\n",
    "RMSE=lss_RMSE(A,b)[1]\n",
    "print(f'c1={c1}, c2={c2}, c3={c3}')\n",
    "print(f'RMSE: {RMSE}')\n",
    "b_RMSE_pol=RMSE\n",
    "print(f'RMSE_linear minus RMSE_polynomial: {b_RMSE_lin-b_RMSE_pol}')"
   ]
  },
  {
   "cell_type": "markdown",
   "id": "273e81a1",
   "metadata": {},
   "source": [
    "__When fitting in a polynomial function, the RMSE is much smaller than when fitting in a linear function.__"
   ]
  },
  {
   "cell_type": "code",
   "execution_count": 10,
   "id": "087f2175",
   "metadata": {},
   "outputs": [
    {
     "name": "stdout",
     "output_type": "stream",
     "text": [
      "c1=4.8, c2=-1.1999999999999977, c3=-8.326672684688676e-16\n",
      "RMSE: 0.44721359549995804\n",
      "RMSE_linear minus RMSE_polynomial: -1.1102230246251565e-16\n"
     ]
    }
   ],
   "source": [
    "# (c)\n",
    "A=np.array([[1,0,0],[1,1,1],[1,2,4],[1,3,9]])\n",
    "b=np.array([5,3,3,1])\n",
    "c1, c2, c3=lss_RMSE(A,b)[0]\n",
    "RMSE=lss_RMSE(A,b)[1]\n",
    "print(f'c1={c1}, c2={c2}, c3={c3}')\n",
    "print(f'RMSE: {RMSE}')\n",
    "c_RMSE_pol=RMSE\n",
    "print(f'RMSE_linear minus RMSE_polynomial: {c_RMSE_lin-c_RMSE_pol}')"
   ]
  },
  {
   "cell_type": "markdown",
   "id": "167cc334",
   "metadata": {},
   "source": [
    "__When fitting in a polynomial function, the RMSE is similar when fitting in a linear function since c3 is very small, resulting in the fitting line being linear.__"
   ]
  },
  {
   "cell_type": "markdown",
   "id": "64a7b169",
   "metadata": {},
   "source": [
    "## 4.1 Least Squares and the Normal Equations\n",
    "* Computer problems 1, 2."
   ]
  },
  {
   "cell_type": "markdown",
   "id": "877b116d",
   "metadata": {},
   "source": [
    "### Exercises 1. Form the normal equations, and compute the least squares solution and 2-norm error for the following inconsistent systems:"
   ]
  },
  {
   "cell_type": "markdown",
   "id": "4a3564d1",
   "metadata": {},
   "source": [
    "(a)\n",
    "$\\begin{bmatrix}\n",
    "3 & -1 & 2 \\\\\n",
    "4 & 1 & 0 \\\\\n",
    "-3 & 2 & 1 \\\\\n",
    "1 & 1 & 5 \\\\\n",
    "-2 & 0 & 3\n",
    "\\end{bmatrix}  \\begin{bmatrix}\n",
    "x_1 \\\\\n",
    "x_2 \\\\\n",
    "x_3 \\\n",
    "\\end{bmatrix} = \\begin{bmatrix}\n",
    "10 \\\\\n",
    "10 \\\\\n",
    "-5 \\\\\n",
    "15 \\\\\n",
    "0\n",
    "\\end{bmatrix}$  &emsp;&emsp;(b) $\\begin{bmatrix}\n",
    "4 & 2 & 3 & 0 \\\\\n",
    "-2 & 3 & -1 & 1 \\\\\n",
    "1 & 3 & -4 & 2 \\\\\n",
    "1 & 0 & 1 & -1 \\\\\n",
    "3 & 1 & 3 & -2\n",
    "\\end{bmatrix}  \\begin{bmatrix}\n",
    "x_1 \\\\\n",
    "x_2 \\\\\n",
    "x_3 \\\\\n",
    "x_4\n",
    "\\end{bmatrix} = \\begin{bmatrix}\n",
    "10 \\\\\n",
    "0 \\\\\n",
    "2 \\\\\n",
    "0 \\\\\n",
    "5\n",
    "\\end{bmatrix}$"
   ]
  },
  {
   "cell_type": "code",
   "execution_count": 11,
   "id": "02e59bf3",
   "metadata": {},
   "outputs": [
    {
     "name": "stdout",
     "output_type": "stream",
     "text": [
      "[[39 -4  2]\n",
      " [-4  7  5]\n",
      " [ 2  5 39]],[100   5  90]\n",
      "least square solution: [2.5246085  0.66163311 2.09340045]\n",
      "2 norm error: 2.4134920906413537\n"
     ]
    }
   ],
   "source": [
    "# a\n",
    "A=np.array([[3,-1,2],[4,1,0],[-3,2,1],[1,1,5],[-2,0,3]])\n",
    "b=np.array([10,10,-5,15,0])\n",
    "res=lss_RMSE(A,b)\n",
    "print(res[3], end=',')\n",
    "print(res[4])\n",
    "print(f'least square solution: {res[0]}')\n",
    "print(f'2 norm error: {res[2]}')"
   ]
  },
  {
   "cell_type": "markdown",
   "id": "be836f42",
   "metadata": {},
   "source": [
    "* __Normal equation:&emsp;$\\begin{bmatrix}\n",
    "39 & -4 & 2 \\\\\n",
    "-4 & 7 & 5 \\\\\n",
    "2 & 5 & 39 \n",
    "\\end{bmatrix}  \\begin{bmatrix}\n",
    "x_1 \\\\\n",
    "x_2 \\\\\n",
    "x_3\\\n",
    "\\end{bmatrix} = \\begin{bmatrix}\n",
    "100 \\\\\n",
    "5 \\\\\n",
    "90 \n",
    "\\end{bmatrix}$  &emsp;&emsp;__\n",
    "\n",
    "\n",
    "* __The least squares solution:&emsp;$\\begin{bmatrix}2.5246085 & 0.66163311 & 2.09340045\\end{bmatrix}$__\n",
    "\n",
    "\n",
    "* __2-norm error:&emsp;2.4134920906413537__"
   ]
  },
  {
   "cell_type": "code",
   "execution_count": 12,
   "id": "4ab80274",
   "metadata": {},
   "outputs": [
    {
     "name": "stdout",
     "output_type": "stream",
     "text": [
      "[[ 31   8  20  -7]\n",
      " [  8  23  -6   7]\n",
      " [ 20  -6  36 -16]\n",
      " [ -7   7 -16  10]],[57 31 37 -6]\n",
      "least square solution: [1.27389608 0.6885086  1.21244902 1.74968966]\n",
      "2 norm error: 0.8256398422677518\n"
     ]
    }
   ],
   "source": [
    "# b\n",
    "A=np.array([[4,2,3,0],[-2,3,-1,1],[1,3,-4,2],[1,0,1,-1],[3,1,3,-2]])\n",
    "b=np.array([10,0,2,0,5])\n",
    "res=lss_RMSE(A,b)\n",
    "print(res[3], end=',')\n",
    "print(res[4])\n",
    "print(f'least square solution: {res[0]}')\n",
    "print(f'2 norm error: {res[2]}')"
   ]
  },
  {
   "cell_type": "markdown",
   "id": "2db8687e",
   "metadata": {},
   "source": [
    "* __Normal equation:&emsp;$\\begin{bmatrix}\n",
    "31 & 8 & 20 & -7 \\\\\n",
    "8 & 23 & -6 & 7 \\\\\n",
    "20 & -6 & 36 & -16\\\\\n",
    "-7 & 7 & -16 & 10\n",
    "\\end{bmatrix}  \\begin{bmatrix}\n",
    "x_1 \\\\\n",
    "x_2 \\\\\n",
    "x_3 \\\\\n",
    "x_4 \\\n",
    "\\end{bmatrix} = \\begin{bmatrix}\n",
    "57 \\\\\n",
    "31 \\\\\n",
    "37 \\\\\n",
    "-6 \\\n",
    "\\end{bmatrix}$  &emsp;&emsp;__\n",
    "\n",
    "\n",
    "* __The least squares solution:&emsp;$\\begin{bmatrix}1.27389608 & 0.6885086 & 1.21244902 & 1.74968966\\end{bmatrix}$__\n",
    "\n",
    "\n",
    "* __2-norm error:&emsp;0.8256398422677518__"
   ]
  },
  {
   "cell_type": "markdown",
   "id": "abd12947",
   "metadata": {},
   "source": [
    "### Exercise 2. Consider the world oil production data of Computer Problem 3.2.3. Find the best least squares (a) line, (b) parabola, and (c) cubic curve through the 10 data points and the RMSE of the fits. Use each to estimate the 2010 production level. Which fit best represents the data in terms of RMSE?"
   ]
  },
  {
   "cell_type": "markdown",
   "id": "49125e26",
   "metadata": {},
   "source": [
    "__The aim is to find a fitting line that best fit the following 10 data points__\n",
    "\n",
    "\n",
    "|year (t) |bbl/day (×$10^6$) (y)|\n",
    "|-----|-------|\n",
    "|1994 |67.052|\n",
    "|1995 |68.008|\n",
    "|1996 |69.803|\n",
    "|1997 |72.024|\n",
    "|1998 |73.400|\n",
    "|1999 |72.063|\n",
    "|2000 |74.669|\n",
    "|2001 |74.487|\n",
    "|2002 |74.065|\n",
    "|2003 |76.777|\n"
   ]
  },
  {
   "cell_type": "code",
   "execution_count": 13,
   "id": "b5e02e53",
   "metadata": {},
   "outputs": [
    {
     "name": "stdout",
     "output_type": "stream",
     "text": [
      "best_fitting line: y=-1865.002+(0.969)*t\n",
      "RMSE: 0.9763180964494096\n",
      "estimation of 2010 production level: 83.38227272738004\n"
     ]
    },
    {
     "data": {
      "text/plain": [
       "Text(0, 0.5, 'bbl/day (×10⁶)')"
      ]
     },
     "execution_count": 13,
     "metadata": {},
     "output_type": "execute_result"
    },
    {
     "data": {
      "image/png": "[encoded data removed]",
      "text/plain": [
       "<Figure size 640x480 with 1 Axes>"
      ]
     },
     "metadata": {},
     "output_type": "display_data"
    }
   ],
   "source": [
    "# (a) fit in y=c1+ c2*t\n",
    "t=[i for i in range(1994,2004)]\n",
    "y=[67.052, 68.008, 69.803, 72.024, 73.400, 72.063, 74.669, 74.487, 74.065, 76.777]\n",
    "b=np.array(y)\n",
    "A=[]\n",
    "for i in t:\n",
    "    A.append([1,i])\n",
    "A=np.array(A)\n",
    "c1, c2=lss_RMSE(A,b)[0]\n",
    "predict_y=np.dot(A,lss_RMSE(A,b)[0])\n",
    "RMSE=lss_RMSE(A,b)[1]\n",
    "print(f'best_fitting line: y={round(c1,3)}+({round(c2,3)})*t')\n",
    "print(f'RMSE: {RMSE}')\n",
    "print(f'estimation of 2010 production level: {c1+c2*2010}')\n",
    "\n",
    "sns.scatterplot(x=t, y=y)\n",
    "sns.lineplot(x=t,y=predict_y,color='green')\n",
    "plt.legend([\"Real Data\",\"Model\"])\n",
    "plt.xlabel('year')\n",
    "plt.ylabel('bbl/day (×10⁶)')"
   ]
  },
  {
   "cell_type": "code",
   "execution_count": 14,
   "id": "b17b6b3a",
   "metadata": {},
   "outputs": [
    {
     "name": "stdout",
     "output_type": "stream",
     "text": [
      "best_fitting line: y=-290832.68801070936+(290.15451714739606)*t+(-0.0723505558406423)*t^2\n",
      "RMSE: 0.8226766517448139\n",
      "estimation of 2010 production level: 74.41080377774779\n"
     ]
    },
    {
     "data": {
      "text/plain": [
       "Text(0, 0.5, 'bbl/day (×10⁶)')"
      ]
     },
     "execution_count": 14,
     "metadata": {},
     "output_type": "execute_result"
    },
    {
     "data": {
      "image/png": "[encoded data removed]",
      "text/plain": [
       "<Figure size 640x480 with 1 Axes>"
      ]
     },
     "metadata": {},
     "output_type": "display_data"
    }
   ],
   "source": [
    "# (b) fit in y=c1+ c2*t+ c3*t^2\n",
    "t=[i for i in range(1994,2004)]\n",
    "y=[67.052, 68.008, 69.803, 72.024, 73.400, 72.063, 74.669, 74.487, 74.065, 76.777]\n",
    "b=np.array(y, dtype=float)\n",
    "A=[]\n",
    "for i in t:\n",
    "    A.append([1,i,i**2])\n",
    "A=np.array(A, dtype=float)\n",
    "c1, c2, c3=lss_RMSE(A,b)[0]\n",
    "predict_y=np.dot(A,lss_RMSE(A,b)[0])\n",
    "RMSE=lss_RMSE(A,b)[1]\n",
    "print(f'best_fitting line: y={c1}+({c2})*t+({c3})*t^2')\n",
    "print(f'RMSE: {RMSE}')\n",
    "print(f'estimation of 2010 production level: {c1+c2*2010+c3*2010**2}')\n",
    "\n",
    "sns.scatterplot(x=t, y=y)\n",
    "sns.lineplot(x=t,y=predict_y,color='green')\n",
    "plt.legend([\"Real Data\",\"Model\"])\n",
    "plt.xlabel('year')\n",
    "plt.ylabel('bbl/day (×10⁶)')"
   ]
  },
  {
   "cell_type": "code",
   "execution_count": 15,
   "id": "e7b95e84",
   "metadata": {},
   "outputs": [
    {
     "name": "stdout",
     "output_type": "stream",
     "text": [
      "best_fitting line: y=-1668062.0102466603+(2357.601023272268)*t+(-1.1068744264105423)*t^2+(0.00017255397361442182)*t^3\n",
      "RMSE: 0.8215014567158089\n",
      "estimation of 2010 production level: 74.64707661280409\n"
     ]
    },
    {
     "data": {
      "text/plain": [
       "Text(0, 0.5, 'bbl/day (×10⁶)')"
      ]
     },
     "execution_count": 15,
     "metadata": {},
     "output_type": "execute_result"
    },
    {
     "data": {
      "image/png": "[encoded data removed]",
      "text/plain": [
       "<Figure size 640x480 with 1 Axes>"
      ]
     },
     "metadata": {},
     "output_type": "display_data"
    }
   ],
   "source": [
    "# (c) fit in y=c1+ c2*t+ c3*t^2+ c4*t^3\n",
    "t=[i for i in range(1994,2004)]\n",
    "y=[67.052, 68.008, 69.803, 72.024, 73.400, 72.063, 74.669, 74.487, 74.065, 76.777]\n",
    "b=np.array(y, dtype=float)\n",
    "A=[]\n",
    "for i in t:\n",
    "    A.append([1,i,i**2,i**3])\n",
    "A=np.array(A, dtype=float)\n",
    "c1, c2, c3, c4=lss_RMSE(A,b)[0]\n",
    "predict_y=np.dot(A,lss_RMSE(A,b)[0])\n",
    "RMSE=lss_RMSE(A,b)[1]\n",
    "print(f'best_fitting line: y={c1}+({c2})*t+({c3})*t^2+({c4})*t^3')\n",
    "print(f'RMSE: {RMSE}')\n",
    "print(f'estimation of 2010 production level: {c1+c2*2010+c3*2010**2+c4*2010**3}')\n",
    "\n",
    "sns.scatterplot(x=t, y=y)\n",
    "sns.lineplot(x=t,y=predict_y,color='green')\n",
    "plt.legend([\"Real Data\",\"Model\"])\n",
    "plt.xlabel('year')\n",
    "plt.ylabel('bbl/day (×10⁶)')"
   ]
  },
  {
   "cell_type": "markdown",
   "id": "da9e2bbd",
   "metadata": {},
   "source": [
    "__In terms of RMSE, cubic curve fit the best since its RMSE is the smallest. However, the RMSE from parabola and cubic curve are similar.__"
   ]
  },
  {
   "cell_type": "markdown",
   "id": "f9b0d809",
   "metadata": {},
   "source": [
    "## 4.2 A Survey of Models\n",
    "* Exercises 6"
   ]
  },
  {
   "cell_type": "markdown",
   "id": "41a023ef",
   "metadata": {},
   "source": [
    "### Exercises 6. Fit data to the drug concentration model (4.21). Find the RMSE of the fit.\n",
    "\n",
    "\n",
    "### <center> $Model: y = c_1\\times t\\times e^{c_2 t}$</center>\n",
    "\n",
    "### <center> $ln y = ln c_1 + ln t + c_2\\times t$</center> \n",
    "\n",
    "### <center> let $ln c_1 = k, c_1= e ^k$, solve k and $c_2$ in $ln y-lnt=k+c_2\\times t$ (b=Ax) </center>\n",
    "\n",
    "\n",
    "__(a)__\n",
    "\n",
    "|t |y|\n",
    "|--|--|\n",
    "|1 |3|\n",
    "|2 |4|\n",
    "|3 |5|\n",
    "|4 |5|"
   ]
  },
  {
   "cell_type": "code",
   "execution_count": 16,
   "id": "c0928ab5",
   "metadata": {},
   "outputs": [
    {
     "name": "stdout",
     "output_type": "stream",
     "text": [
      "best_fitting line: y=3.794733192202054*t*e^(-0.2808727768855654t)\n",
      "RMSE: 0.18657577248061716\n"
     ]
    },
    {
     "data": {
      "text/plain": [
       "Text(0, 0.5, 'y')"
      ]
     },
     "execution_count": 16,
     "metadata": {},
     "output_type": "execute_result"
    },
    {
     "data": {
      "image/png": "[encoded data removed]",
      "text/plain": [
       "<Figure size 640x480 with 1 Axes>"
      ]
     },
     "metadata": {},
     "output_type": "display_data"
    }
   ],
   "source": [
    "ys=[3,4,5,5]\n",
    "ts=[i for i in range(1,5)]\n",
    "b=np.log(ys)-np.log(ts)\n",
    "A=[]\n",
    "for t in ts:\n",
    "    A.append([1,t])\n",
    "A=np.array(A)\n",
    "c1, c2=math.exp(lss_RMSE(A,b)[0][0]),lss_RMSE(A,b)[0][1]\n",
    "predict_y=c1*np.array(ts)*np.exp(c2*np.array(ts))\n",
    "error=predict_y-np.array(ys)\n",
    "sqrt_SE=np.linalg.norm(error)\n",
    "RMSE=sqrt_SE/(error.shape[0]**0.5)\n",
    "print(f'best_fitting line: y={c1}*t*e^({c2}t)')\n",
    "print(f'RMSE: {RMSE}')\n",
    "\n",
    "\n",
    "sns.scatterplot(x=ts, y=ys)\n",
    "mt=np.linspace(0,5,30)\n",
    "predict_y_m=c1*np.array(mt)*np.exp(c2*np.array(mt))\n",
    "sns.lineplot(x=mt,y=predict_y_m,color='green')\n",
    "plt.legend([\"Real Data\",\"Model\"])\n",
    "plt.xlabel('t')\n",
    "plt.ylabel('y')"
   ]
  },
  {
   "cell_type": "markdown",
   "id": "b21176fd",
   "metadata": {},
   "source": [
    "__(b)__\n",
    "\n",
    "|t |y|\n",
    "|--|--|\n",
    "|1 |2|\n",
    "|2 |4|\n",
    "|3 |3|\n",
    "|4 |2|"
   ]
  },
  {
   "cell_type": "code",
   "execution_count": 17,
   "id": "10bc46db",
   "metadata": {},
   "outputs": [
    {
     "name": "stdout",
     "output_type": "stream",
     "text": [
      "best_fitting line: y=3.9999999999999973*t*e^(-0.4852030263919615t)\n",
      "RMSE: 0.5658265547431596\n"
     ]
    },
    {
     "data": {
      "text/plain": [
       "Text(0, 0.5, 'y')"
      ]
     },
     "execution_count": 17,
     "metadata": {},
     "output_type": "execute_result"
    },
    {
     "data": {
      "image/png": "[encoded data removed]",
      "text/plain": [
       "<Figure size 640x480 with 1 Axes>"
      ]
     },
     "metadata": {},
     "output_type": "display_data"
    }
   ],
   "source": [
    "ys=[2,4,3,2]\n",
    "ts=[i for i in range(1,5)]\n",
    "b=np.log(ys)-np.log(ts)\n",
    "A=[]\n",
    "for t in ts:\n",
    "    A.append([1,t])\n",
    "A=np.array(A)\n",
    "A=np.array(A)\n",
    "c1, c2=math.exp(lss_RMSE(A,b)[0][0]),lss_RMSE(A,b)[0][1]\n",
    "predict_y=c1*np.array(ts)*np.exp(c2*np.array(ts))\n",
    "error=predict_y-np.array(ys)\n",
    "sqrt_SE=np.linalg.norm(error)\n",
    "RMSE=sqrt_SE/(error.shape[0]**0.5)\n",
    "print(f'best_fitting line: y={c1}*t*e^({c2}t)')\n",
    "print(f'RMSE: {RMSE}')\n",
    "\n",
    "sns.scatterplot(x=ts, y=ys)\n",
    "mt=np.linspace(0,5,30)\n",
    "predict_y_m=c1*np.array(mt)*np.exp(c2*np.array(mt))\n",
    "sns.lineplot(x=mt,y=predict_y_m,color='green')\n",
    "plt.legend([\"Real Data\",\"Model\"])\n",
    "plt.xlabel('t')\n",
    "plt.ylabel('y')"
   ]
  },
  {
   "cell_type": "markdown",
   "id": "d65b8064",
   "metadata": {},
   "source": [
    "## 4.2 A Survey of Models\n",
    "* Computer problems 3"
   ]
  },
  {
   "cell_type": "markdown",
   "id": "62372cec",
   "metadata": {},
   "source": [
    "### Exercises 3. Consider the world population data of Computer Problem 3.1.1. Find the best exponential fit of the data points by using linearization. Estimate the 1980 population, and find the estimation error.\n",
    "\n",
    "|year (t) |population (y)|\n",
    "|--|--|\n",
    "|1960 |3039585530|\n",
    "|1970 |3707475887|\n",
    "|1990 |5281653820|\n",
    "|2000 |6079603571|\n",
    "\n",
    "### <center>Compare with the 1980 estimate of 4452584592</center>"
   ]
  },
  {
   "cell_type": "markdown",
   "id": "05fe3543",
   "metadata": {},
   "source": [
    "### <center>exponential model $y = c_1\\times e^{c_2t}$</center>\n",
    "### <center> $ln y = ln(c_1\\times e^{c_2t}) = ln c_1 + c_2\\times t$</center>\n",
    "### <center> let $ln c_1 = k, c_1= e ^k$, solve k and $c_2$ in $ln y=k+c_2\\times t$ (b=Ax) </center>"
   ]
  },
  {
   "cell_type": "code",
   "execution_count": 18,
   "id": "c34b5d37",
   "metadata": {},
   "outputs": [
    {
     "name": "stdout",
     "output_type": "stream",
     "text": [
      "best exponential fit: y=3079440361.3791165*e^(0.017403246298071832*(t-1960))\n",
      "estimated population in 1980: 4361485915\n",
      "error: 91098677\n"
     ]
    },
    {
     "data": {
      "text/plain": [
       "Text(0, 0.5, 'population')"
      ]
     },
     "execution_count": 18,
     "metadata": {},
     "output_type": "execute_result"
    },
    {
     "data": {
      "image/png": "[encoded data removed]",
      "text/plain": [
       "<Figure size 640x480 with 1 Axes>"
      ]
     },
     "metadata": {},
     "output_type": "display_data"
    }
   ],
   "source": [
    "ts=[1960,1970,1990,2000]\n",
    "ys=[3039585530,3707475887,5281653820,6079603571]\n",
    "b=np.log(ys)\n",
    "A=[]\n",
    "for t in ts:\n",
    "    A.append([1,t-1960])\n",
    "A=np.array(A)\n",
    "c1, c2=math.exp(lss_RMSE(A,b)[0][0]),lss_RMSE(A,b)[0][1]\n",
    "\n",
    "predict_y=int(c1*math.exp(c2*(1980-1960)))\n",
    "error=abs(predict_y-4452584592)\n",
    "\n",
    "print(f'best exponential fit: y={c1}*e^({c2}*(t-1960))')\n",
    "print(f'estimated population in 1980: {predict_y}')\n",
    "print(f'error: {error}')\n",
    "\n",
    "def model(t):\n",
    "    return int(c1*math.exp(c2*(t-1960)))\n",
    "sns.scatterplot(x=ts, y=ys)\n",
    "\n",
    "# plotting the prediction model\n",
    "mt=np.linspace(1960,2000)\n",
    "predict_y_m=[model(i) for i in mt]\n",
    "sns.lineplot(x=mt,y=predict_y_m,color='green')\n",
    "plt.legend([\"Real Data\",\"Model\"])\n",
    "plt.xlabel('year')\n",
    "plt.ylabel('population')"
   ]
  },
  {
   "cell_type": "markdown",
   "id": "1304e67c",
   "metadata": {},
   "source": [
    "## 4.3 QR Factorization\n",
    "* Exercises 2, 7 (Use the QR factorization from Exercise 2)"
   ]
  },
  {
   "cell_type": "markdown",
   "id": "cc5bff19",
   "metadata": {},
   "source": [
    "### Exercises 2. Apply classical Gram–Schmidt orthogonalization to find the full QR factorization of the following matrices:\n",
    "\n"
   ]
  },
  {
   "cell_type": "markdown",
   "id": "f6a52853",
   "metadata": {},
   "source": [
    "### <center>A1 : the first column of A (y1),&emsp;A2: the second column of A </center>\n",
    "### <center>Since A is a 3*2 matrix, we added a third vector A3 [1,0,0] (linearly independent of the first two columns) </center>\n",
    "### <center>$q_1=\\frac{y_1}{||y_1||_2},r_{11}=||y_1||_2$</center>\n",
    "### <center>$y_2 = A_2 − q_1q_1^TA_2,r_{12}=q_1^TA_2$</center>\n",
    "### <center>$q_2=\\frac{y_2}{||y_2||_2}, r_{22}=||y_2||_2$</center>\n",
    "### <center>$y_3 = A_3 − q_1q_1^TA_3− q_2q_2^TA_3$</center>\n",
    "### <center>$q_3=\\frac{y_3}{||y_3||_2}$</center>"
   ]
  },
  {
   "cell_type": "markdown",
   "id": "18a024c6",
   "metadata": {},
   "source": [
    "(a)&emsp;\n",
    "$\\begin{bmatrix}\n",
    "2 & 3 \\\\\n",
    "-2 &-6 \\\\\n",
    "1 & 0\n",
    "\\end{bmatrix}  $"
   ]
  },
  {
   "cell_type": "code",
   "execution_count": 19,
   "id": "b19eb693",
   "metadata": {},
   "outputs": [],
   "source": [
    "A=np.array([[2,3],[-2,-6],[1,0]])\n",
    "y1=A[:,0] #A1\n",
    "A2=A[:,1]\n",
    "A3=np.array([1,0,0])\n",
    "\n",
    "r11=np.linalg.norm(y1)\n",
    "q1=y1/r11\n",
    "\n",
    "r12=np.dot(q1.T,A2)\n",
    "y2=A2-np.dot(q1,r12)\n",
    "r22=np.linalg.norm(y2)\n",
    "q2=y2/r22\n",
    "\n",
    "y3=A3-np.dot(q1,np.dot(q1.T,A3))-np.dot(q2,np.dot(q2.T,A3))\n",
    "q3=y3/np.linalg.norm(y3)\n",
    "\n",
    "R_a=np.array([[r11,r12],[0,r22],[0,0]])\n",
    "Q_a=np.column_stack((q1,q2,q3))"
   ]
  },
  {
   "cell_type": "code",
   "execution_count": 20,
   "id": "155a37ed",
   "metadata": {},
   "outputs": [
    {
     "data": {
      "text/plain": [
       "array([[ 0.66666667, -0.33333333,  0.66666667],\n",
       "       [-0.66666667, -0.66666667,  0.33333333],\n",
       "       [ 0.33333333, -0.66666667, -0.66666667]])"
      ]
     },
     "execution_count": 20,
     "metadata": {},
     "output_type": "execute_result"
    }
   ],
   "source": [
    "Q_a"
   ]
  },
  {
   "cell_type": "code",
   "execution_count": 21,
   "id": "fbe5c0fb",
   "metadata": {},
   "outputs": [
    {
     "data": {
      "text/plain": [
       "array([[3., 6.],\n",
       "       [0., 3.],\n",
       "       [0., 0.]])"
      ]
     },
     "execution_count": 21,
     "metadata": {},
     "output_type": "execute_result"
    }
   ],
   "source": [
    "R_a"
   ]
  },
  {
   "cell_type": "code",
   "execution_count": 22,
   "id": "9b33744b",
   "metadata": {},
   "outputs": [
    {
     "name": "stdout",
     "output_type": "stream",
     "text": [
      "The shape of Q:  (3, 3)\n",
      "check if Q is orthogonal:\n",
      "||Qx||: 3.7416573867739413\n",
      "||x|| : 3.7416573867739413\n"
     ]
    }
   ],
   "source": [
    "# Check if Q is orthogonal\n",
    "# If Q is an orthogonal m × m matrix and x is an m-dimensional vector, then||Qx||2 = ||x||2.\n",
    "print('The shape of Q: ',Q_a.shape)\n",
    "print('check if Q is orthogonal:')\n",
    "x=np.array([1,2,3])\n",
    "print('||Qx||:',np.linalg.norm(np.dot(Q_a,x)))\n",
    "print('||x|| :',np.linalg.norm(x))"
   ]
  },
  {
   "cell_type": "code",
   "execution_count": 23,
   "id": "0079be4c",
   "metadata": {},
   "outputs": [
    {
     "name": "stdout",
     "output_type": "stream",
     "text": [
      "[[ 2.  3.]\n",
      " [-2. -6.]\n",
      " [ 1.  0.]]\n"
     ]
    }
   ],
   "source": [
    "# Check if A=QR\n",
    "print(np.dot(Q_a,R_a))"
   ]
  },
  {
   "cell_type": "markdown",
   "id": "37dd9054",
   "metadata": {},
   "source": [
    "__||Qx||=||x|| >> Q is orthogonal , A=QR >> successfully factorized A__ "
   ]
  },
  {
   "cell_type": "markdown",
   "id": "883c52af",
   "metadata": {},
   "source": [
    "(b)&emsp;\n",
    "$\\begin{bmatrix}\n",
    "-4 & -4 \\\\\n",
    "-2 & 7 \\\\\n",
    "4 & -5\n",
    "\\end{bmatrix}  $"
   ]
  },
  {
   "cell_type": "code",
   "execution_count": 24,
   "id": "2e7e9c34",
   "metadata": {},
   "outputs": [],
   "source": [
    "A=np.array([[-4,-4],[-2,7],[4,-5]])\n",
    "y1=A[:,0] #A1\n",
    "A2=A[:,1]\n",
    "A3=np.array([1,0,0])\n",
    "\n",
    "r11=np.linalg.norm(y1)\n",
    "q1=y1/r11\n",
    "\n",
    "r12=np.dot(q1.T,A2)\n",
    "y2=A2-np.dot(q1,r12)\n",
    "r22=np.linalg.norm(y2)\n",
    "q2=y2/r22\n",
    "\n",
    "y3=A3-np.dot(q1,np.dot(q1.T,A3))-np.dot(q2,np.dot(q2.T,A3))\n",
    "q3=y3/np.linalg.norm(y3)\n",
    "\n",
    "R_b=np.array([[r11,r12],[0,r22],[0,0]])\n",
    "Q_b=np.column_stack((q1,q2,q3))"
   ]
  },
  {
   "cell_type": "code",
   "execution_count": 25,
   "id": "23c6e16a",
   "metadata": {},
   "outputs": [
    {
     "data": {
      "text/plain": [
       "array([[-0.66666667, -0.66666667,  0.33333333],\n",
       "       [-0.33333333,  0.66666667,  0.66666667],\n",
       "       [ 0.66666667, -0.33333333,  0.66666667]])"
      ]
     },
     "execution_count": 25,
     "metadata": {},
     "output_type": "execute_result"
    }
   ],
   "source": [
    "Q_b"
   ]
  },
  {
   "cell_type": "code",
   "execution_count": 26,
   "id": "bc656a0d",
   "metadata": {},
   "outputs": [
    {
     "data": {
      "text/plain": [
       "array([[ 6., -3.],\n",
       "       [ 0.,  9.],\n",
       "       [ 0.,  0.]])"
      ]
     },
     "execution_count": 26,
     "metadata": {},
     "output_type": "execute_result"
    }
   ],
   "source": [
    "R_b"
   ]
  },
  {
   "cell_type": "code",
   "execution_count": 27,
   "id": "8826ed57",
   "metadata": {},
   "outputs": [
    {
     "name": "stdout",
     "output_type": "stream",
     "text": [
      "The shape of Q:  (3, 3)\n",
      "check if Q is orthogonal:\n",
      "||Qx||: 3.7416573867739413\n",
      "||x|| : 3.7416573867739413\n"
     ]
    }
   ],
   "source": [
    "# If Q is an orthogonal m × m matrix and x is an m-dimensional vector, then||Qx||2 = ||x||2.\n",
    "print('The shape of Q: ',Q_b.shape)\n",
    "print('check if Q is orthogonal:')\n",
    "x=np.array([1,2,3])\n",
    "print('||Qx||:',np.linalg.norm(np.dot(Q_b,x)))\n",
    "print('||x|| :',np.linalg.norm(x))"
   ]
  },
  {
   "cell_type": "markdown",
   "id": "8d01dda4",
   "metadata": {},
   "source": [
    "__||Qx||=||x|| >> Q is orthogonal , A=QR >> successfully factorized A__"
   ]
  },
  {
   "cell_type": "markdown",
   "id": "8f5adf8a",
   "metadata": {},
   "source": [
    "### Exercises 7. Use the QR factorization from Exercise 2, 4, or 6 to solve the least squares problem.\n",
    "\n",
    "(a)&emsp;\n",
    "$\\begin{bmatrix}\n",
    "2 & 3 \\\\\n",
    "-2 &-6 \\\\\n",
    "1 & 0\n",
    "\\end{bmatrix}\\begin{bmatrix}\n",
    "x_1 \\\\\n",
    "x_2 \n",
    "\\end{bmatrix}=\\begin{bmatrix}\n",
    "3 \\\\\n",
    "-3 \\\\\n",
    "6 \n",
    "\\end{bmatrix}$"
   ]
  },
  {
   "cell_type": "code",
   "execution_count": 28,
   "id": "84a49775",
   "metadata": {},
   "outputs": [
    {
     "name": "stdout",
     "output_type": "stream",
     "text": [
      "solution: [4.0, -1.0]\n"
     ]
    }
   ],
   "source": [
    "# classical Gram–Schmidt orthogonalization\n",
    "# Ax=b, A = QR >> QRx=b >> Q.T QRx = Q.T b >> Rx=Q.T b\n",
    "# R^ = upper n × n submatrix of R\n",
    "# d^ = upper n entries of d = Q.T b\n",
    "# Solve R^x = d^ for least squares solution x.\n",
    "b=np.array([3,-3,6])\n",
    "Ru=R_a[:2,:2]\n",
    "du=np.dot(Q_a.T,b)[:2]\n",
    "x1,x2=np.linalg.solve(Ru,du)\n",
    "print('solution:',[x1,x2])"
   ]
  },
  {
   "cell_type": "code",
   "execution_count": 29,
   "id": "52cef098",
   "metadata": {},
   "outputs": [
    {
     "name": "stdout",
     "output_type": "stream",
     "text": [
      "solution: [4.0, -1.0]\n"
     ]
    }
   ],
   "source": [
    "# modified Gram–Schmidt orthogonalization (different ways to get q3)\n",
    "\n",
    "A=np.array([[2,3],[-2,-6],[1,0]])\n",
    "y1=A[:,0] #A1\n",
    "A2=A[:,1]\n",
    "A3=np.array([1,0,0])\n",
    "\n",
    "r11=np.linalg.norm(y1)\n",
    "q1=y1/r11\n",
    "\n",
    "r12=np.dot(q1.T,A2)\n",
    "y2=A2-np.dot(q1,r12)\n",
    "r22=np.linalg.norm(y2)\n",
    "q2=y2/r22\n",
    "\n",
    "#------------------------------------- different from classical Gram–Schmidt orthogonalization----------------------\n",
    "y3_1=A3-np.dot(q1,np.dot(q1.T,A3))\n",
    "y3=y3_1-np.dot(q2,np.dot(q2.T,y3_1))\n",
    "q3=y3/np.linalg.norm(y3)\n",
    "#--------------------------------------------------------------------------------------------------------------------\n",
    "R_am=np.array([[r11,r12],[0,r22],[0,0]])\n",
    "Q_am=np.column_stack((q1,q2,q3))\n",
    "\n",
    "# solve the equation\n",
    "b=np.array([3,-3,6])\n",
    "Ru=R_am[:2,:2]\n",
    "du=np.dot(Q_am.T,b)[:2]\n",
    "x1,x2=np.linalg.solve(Ru,du)\n",
    "print('solution:',[x1,x2])"
   ]
  },
  {
   "cell_type": "markdown",
   "id": "edae4728",
   "metadata": {},
   "source": [
    "(b)&emsp;\n",
    "$\\begin{bmatrix}\n",
    "-4 & -4 \\\\\n",
    "-2 & 7 \\\\\n",
    "4 & -5\n",
    "\\end{bmatrix}\\begin{bmatrix}\n",
    "x_1 \\\\\n",
    "x_2 \n",
    "\\end{bmatrix}=\\begin{bmatrix}\n",
    "3 \\\\\n",
    "9 \\\\\n",
    "0 \n",
    "\\end{bmatrix}$"
   ]
  },
  {
   "cell_type": "code",
   "execution_count": 30,
   "id": "7c3edb36",
   "metadata": {},
   "outputs": [
    {
     "name": "stdout",
     "output_type": "stream",
     "text": [
      "solution: [-0.6111111111111112, 0.4444444444444444]\n"
     ]
    }
   ],
   "source": [
    "# classical Gram–Schmidt orthogonalization\n",
    "# Ax=b, A = QR >> QRx=b >> Q.T QRx = Q.T b >> Rx=Q.T b\n",
    "# R^ = upper n × n submatrix of R\n",
    "# d^ = upper n entries of d = Q.T b\n",
    "# Solve R^x = d^ for least squares solution x.\n",
    "b=np.array([3,9,0])\n",
    "Ru=R_b[:2,:2]\n",
    "du=np.dot(Q_b.T,b)[:2]\n",
    "x1,x2=np.linalg.solve(Ru,du)\n",
    "print('solution:',[x1,x2])"
   ]
  },
  {
   "cell_type": "code",
   "execution_count": 31,
   "id": "af116d91",
   "metadata": {},
   "outputs": [
    {
     "name": "stdout",
     "output_type": "stream",
     "text": [
      "solution: [-0.6111111111111112, 0.4444444444444444]\n"
     ]
    }
   ],
   "source": [
    "# modified Gram–Schmidt orthogonalization (different ways to get q3)\n",
    "\n",
    "A=np.array([[-4,-4],[-2,7],[4,-5]])\n",
    "y1=A[:,0] #A1\n",
    "A2=A[:,1]\n",
    "A3=np.array([1,0,0])\n",
    "\n",
    "r11=np.linalg.norm(y1)\n",
    "q1=y1/r11\n",
    "\n",
    "r12=np.dot(q1.T,A2)\n",
    "y2=A2-np.dot(q1,r12)\n",
    "r22=np.linalg.norm(y2)\n",
    "q2=y2/r22\n",
    "\n",
    "#------------------------------------- different from classical Gram–Schmidt orthogonalization----------------------\n",
    "y3_1=A3-np.dot(q1,np.dot(q1.T,A3))\n",
    "y3=y3_1-np.dot(q2,np.dot(q2.T,y3_1))\n",
    "q3=y3/np.linalg.norm(y3)\n",
    "#--------------------------------------------------------------------------------------------------------------------\n",
    "\n",
    "R_bm=np.array([[r11,r12],[0,r22],[0,0]])\n",
    "Q_bm=np.column_stack((q1,q2,q3))\n",
    "\n",
    "# solve the equation\n",
    "b=np.array([3,9,0])\n",
    "Ru=R_bm[:2,:2]\n",
    "du=np.dot(Q_bm.T,b)[:2]\n",
    "x1,x2=np.linalg.solve(Ru,du)\n",
    "print('solution:',[x1,x2])"
   ]
  },
  {
   "cell_type": "markdown",
   "id": "4fe9fba2",
   "metadata": {},
   "source": [
    "## 4.3 QR Factorization\n",
    "* Computer problems 1, 5"
   ]
  },
  {
   "cell_type": "markdown",
   "id": "37519669",
   "metadata": {},
   "source": [
    "### Exercise 1. Write a MATLAB program that implements the modified Gram–Schmidt method to find the reduced QR factorization. Only one line from the classical version needs to be changed. Check your work by comparing factorizations of the matrices in Exercise 1 with the MATLAB qr(A,0) command or equivalent. The factorization is unique up to signs of the entries of Q and R."
   ]
  },
  {
   "cell_type": "code",
   "execution_count": 32,
   "id": "5b8ffd38",
   "metadata": {},
   "outputs": [],
   "source": [
    "def QR_fact_classic(A):\n",
    "    Q=np.zeros((A.shape[0],1))\n",
    "    R=np.zeros((A.shape[1],A.shape[1]))\n",
    "    R[0,0]=np.linalg.norm(A[:,0])\n",
    "    Q[:,0]=A[:,0]/R[0,0]\n",
    "    for j in range(1,A.shape[1]):\n",
    "        An=A[:,j]\n",
    "        #print(An)\n",
    "        sub=0\n",
    "        for i in range(j):\n",
    "            #print(i)\n",
    "            R[i,j]=np.dot(Q[:,i].T,An)\n",
    "            sub+=np.dot(Q[:,i],np.dot(Q[:,i].T,An))\n",
    "                     \n",
    "        yn=An-sub\n",
    "        Qn=yn/np.linalg.norm(yn)\n",
    "        R[j,j]=np.linalg.norm(yn)\n",
    "        Q=np.column_stack((Q,Qn))\n",
    "    \n",
    "    return Q, R"
   ]
  },
  {
   "cell_type": "code",
   "execution_count": 33,
   "id": "999bc4a2",
   "metadata": {},
   "outputs": [],
   "source": [
    "def QR_fact_modified(A):\n",
    "\n",
    "    Q=np.zeros((A.shape[0],1))\n",
    "    R=np.zeros((A.shape[1],A.shape[1]))\n",
    "    R[0,0]=np.linalg.norm(A[:,0])\n",
    "    Q[:,0]=A[:,0]/R[0,0]\n",
    "    for j in range(1,A.shape[1]):\n",
    "        An=A[:,j]\n",
    "        for i in range(j):\n",
    "            #print(i)\n",
    "            R[i,j]=np.dot(Q[:,i].T,An)\n",
    "            An=An-np.dot(R[i,j],Q[:,i]) # different from classical                    \n",
    "        yn=An\n",
    "        Qn=yn/np.linalg.norm(yn)\n",
    "        R[j,j]=np.linalg.norm(yn)\n",
    "        Q=np.column_stack((Q,Qn))\n",
    "    return Q, R\n",
    "    "
   ]
  },
  {
   "cell_type": "markdown",
   "id": "3dc53e87",
   "metadata": {},
   "source": [
    "(a)&emsp;\n",
    "$\\begin{bmatrix}\n",
    "4 & 0 \\\\\n",
    "3 & 1 \\\n",
    "\\end{bmatrix}$&emsp;(b)&emsp;$\\begin{bmatrix}\n",
    "1 & 2 \\\\\n",
    "1 & 1 \n",
    "\\end{bmatrix}$&emsp;(c)&emsp;$\\begin{bmatrix}\n",
    "2 & 1 \\\\\n",
    "1 & -1 \\\\\n",
    "2 & 1 \n",
    "\\end{bmatrix}$&emsp;(d)&emsp;$\\begin{bmatrix}\n",
    "4 & 8 & 1 \\\\\n",
    "0 & 2 & -2 \\\\\n",
    "3 & 6 & 7 \n",
    "\\end{bmatrix}$"
   ]
  },
  {
   "cell_type": "code",
   "execution_count": 34,
   "id": "2c70ef64",
   "metadata": {},
   "outputs": [
    {
     "name": "stdout",
     "output_type": "stream",
     "text": [
      "test whether Q is an orthogonal matrix:\n",
      "||Qx||: 2.2360679774997894\n",
      "||x|| : 2.23606797749979\n",
      "\n",
      "Q from self defined function:\n",
      "[[-0.8  0.6]\n",
      " [ 0.6  0.8]]\n",
      "R from self defined function:\n",
      "[[5.  0.6]\n",
      " [0.  0.8]]\n",
      "\n",
      "python qr function\n",
      "[[-0.8  0.6]\n",
      " [ 0.6  0.8]]\n",
      "[[5.  0.6]\n",
      " [0.  0.8]]\n"
     ]
    }
   ],
   "source": [
    "# Test with exercise 1 (a)\n",
    "A=np.array([[-4,0],[3,1]])\n",
    "Q, R =QR_fact_modified(A)\n",
    "x=np.array([1,2])\n",
    "print('test whether Q is an orthogonal matrix:')\n",
    "print('||Qx||:',np.linalg.norm(np.dot(Q,x)))\n",
    "print('||x|| :',np.linalg.norm(x))\n",
    "print()\n",
    "print('Q from self defined function:')\n",
    "print(Q)\n",
    "print('R from self defined function:')\n",
    "print(R)\n",
    "print()\n",
    "print('python qr function')\n",
    "print(np.linalg.qr(A)[0])\n",
    "print(np.linalg.qr(A)[1])"
   ]
  },
  {
   "cell_type": "code",
   "execution_count": 35,
   "id": "d496f370",
   "metadata": {},
   "outputs": [
    {
     "name": "stdout",
     "output_type": "stream",
     "text": [
      "test whether Q is an orthogonal matrix:\n",
      "||Qx||: 2.23606797749979\n",
      "||x|| : 2.23606797749979\n",
      "\n",
      "Q from self defined function:\n",
      "[[ 0.70710678  0.70710678]\n",
      " [ 0.70710678 -0.70710678]]\n",
      "R from self defined function:\n",
      "[[1.41421356 2.12132034]\n",
      " [0.         0.70710678]]\n",
      "\n",
      "python qr function\n",
      "[[-0.70710678 -0.70710678]\n",
      " [-0.70710678  0.70710678]]\n",
      "[[-1.41421356 -2.12132034]\n",
      " [ 0.         -0.70710678]]\n"
     ]
    }
   ],
   "source": [
    "# Test with exercise 1 (b)\n",
    "A=np.array([[1,2],[1,1]])\n",
    "Q, R =QR_fact_modified(A)\n",
    "x=np.array([1,2])\n",
    "print('test whether Q is an orthogonal matrix:')\n",
    "print('||Qx||:',np.linalg.norm(np.dot(Q,x)))\n",
    "print('||x|| :',np.linalg.norm(x))\n",
    "print()\n",
    "print('Q from self defined function:')\n",
    "print(Q)\n",
    "print('R from self defined function:')\n",
    "print(R)\n",
    "print()\n",
    "print('python qr function')\n",
    "print(np.linalg.qr(A)[0])\n",
    "print(np.linalg.qr(A)[1])"
   ]
  },
  {
   "cell_type": "code",
   "execution_count": 36,
   "id": "b3ab347c",
   "metadata": {},
   "outputs": [
    {
     "name": "stdout",
     "output_type": "stream",
     "text": [
      "test whether Q is an orthogonal matrix:\n",
      "||Qx||: 2.2360679774997894\n",
      "||x|| : 2.23606797749979\n",
      "\n",
      "Q from self defined function:\n",
      "[[ 0.66666667  0.23570226]\n",
      " [ 0.33333333 -0.94280904]\n",
      " [ 0.66666667  0.23570226]]\n",
      "R from self defined function:\n",
      "[[3.         1.        ]\n",
      " [0.         1.41421356]]\n",
      "\n",
      "python qr function\n",
      "[[-0.66666667  0.23570226]\n",
      " [-0.33333333 -0.94280904]\n",
      " [-0.66666667  0.23570226]]\n",
      "[[-3.         -1.        ]\n",
      " [ 0.          1.41421356]]\n"
     ]
    }
   ],
   "source": [
    "# Test with exercise 1 (c)\n",
    "A=np.array([[2,1],[1,-1],[2,1]])\n",
    "Q, R =QR_fact_modified(A)\n",
    "x=np.array([1,2])\n",
    "print('test whether Q is an orthogonal matrix:')\n",
    "print('||Qx||:',np.linalg.norm(np.dot(Q,x)))\n",
    "print('||x|| :',np.linalg.norm(x))\n",
    "print()\n",
    "print('Q from self defined function:')\n",
    "print(Q)\n",
    "print('R from self defined function:')\n",
    "print(R)\n",
    "print()\n",
    "print('python qr function')\n",
    "print(np.linalg.qr(A)[0])\n",
    "print(np.linalg.qr(A)[1])"
   ]
  },
  {
   "cell_type": "code",
   "execution_count": 37,
   "id": "3917010f",
   "metadata": {},
   "outputs": [
    {
     "name": "stdout",
     "output_type": "stream",
     "text": [
      "test whether Q is an orthogonal matrix:\n",
      "||Qx||: 3.7416573867739418\n",
      "||x|| : 3.7416573867739413\n",
      "\n",
      "Q from self defined function:\n",
      "[[ 0.8  0.  -0.6]\n",
      " [ 0.   1.   0. ]\n",
      " [ 0.6  0.   0.8]]\n",
      "R from self defined function:\n",
      "[[ 5. 10.  5.]\n",
      " [ 0.  2. -2.]\n",
      " [ 0.  0.  5.]]\n",
      "\n",
      "python qr function\n",
      "[[-8.00000000e-01  9.99200722e-17 -6.00000000e-01]\n",
      " [-0.00000000e+00 -1.00000000e+00 -1.66533454e-16]\n",
      " [-6.00000000e-01 -1.33226763e-16  8.00000000e-01]]\n",
      "[[ -5. -10.  -5.]\n",
      " [  0.  -2.   2.]\n",
      " [  0.   0.   5.]]\n"
     ]
    }
   ],
   "source": [
    "# Test with exercise 1 (d)\n",
    "A=np.array([[4,8,1],[0,2,-2],[3,6,7]])\n",
    "Q, R =QR_fact_modified(A)\n",
    "x=np.array([1,2,3])\n",
    "print('test whether Q is an orthogonal matrix:')\n",
    "print('||Qx||:',np.linalg.norm(np.dot(Q,x)))\n",
    "print('||x|| :',np.linalg.norm(x))\n",
    "print()\n",
    "print('Q from self defined function:')\n",
    "print(Q)\n",
    "print('R from self defined function:')\n",
    "print(R)\n",
    "print()\n",
    "print('python qr function')\n",
    "print(np.linalg.qr(A)[0])\n",
    "print(np.linalg.qr(A)[1])"
   ]
  },
  {
   "cell_type": "markdown",
   "id": "873f0276",
   "metadata": {},
   "source": [
    "__All four results demonstrated Q is orthogonal. The QR factorization does not only have a specific factorization. The Q and R generated by the self-defined function have different directions from python's qr function.__"
   ]
  },
  {
   "cell_type": "markdown",
   "id": "bf56b943",
   "metadata": {},
   "source": [
    "### Exercise 5. Use the MATLAB QR factorization to find the least squares solutions and 2-norm error of the following inconsistent systems:"
   ]
  },
  {
   "cell_type": "code",
   "execution_count": 38,
   "id": "4a205323",
   "metadata": {},
   "outputs": [],
   "source": [
    "def solve_with_QR(A,b):\n",
    "    Q, R= QR_fact_modified(A)\n",
    "    d=np.dot(Q.T,b)\n",
    "    root=np.linalg.solve(R,d)\n",
    "    norm_e=np.linalg.norm(np.dot(A,root)-b)\n",
    "    return root, norm_e\n",
    "\n",
    "def solve_with_numpyQR(A,b):\n",
    "    Q, R= np.linalg.qr(A)\n",
    "    d=np.dot(Q.T,b)\n",
    "    root=np.linalg.solve(R,d)\n",
    "    norm_e=np.linalg.norm(np.dot(A,root)-b)\n",
    "    return root, norm_e\n",
    "    "
   ]
  },
  {
   "cell_type": "markdown",
   "id": "fb5767b8",
   "metadata": {},
   "source": [
    "(a)&emsp;\n",
    "$\\begin{bmatrix}\n",
    "1 & 1 \\\\\n",
    "2 & 1 \\\\\n",
    "1 & 2 \\\\\n",
    "0 & 3\n",
    "\\end{bmatrix}\\begin{bmatrix}\n",
    "x_1 \\\\\n",
    "x_2 \n",
    "\\end{bmatrix}=\\begin{bmatrix}\n",
    "3 \\\\\n",
    "5 \\\\\n",
    "5 \\\\\n",
    "5\n",
    "\\end{bmatrix}$"
   ]
  },
  {
   "cell_type": "code",
   "execution_count": 39,
   "id": "77a0be08",
   "metadata": {},
   "outputs": [
    {
     "name": "stdout",
     "output_type": "stream",
     "text": [
      "solution from self-defined function: [1.61538462 1.66153846]\n",
      "solution from python defined function: [1.61538462 1.66153846]\n",
      "2-norm error from self-defined function: 0.3038218101250999\n",
      "2-norm error from python defined function: 0.3038218101251001\n",
      "difference in 2-norm: -2.220446049250313e-16\n"
     ]
    }
   ],
   "source": [
    "A=np.array([[1,1],[2,1],[1,2],[0,3]])\n",
    "b=np.array([3,5,5,5])\n",
    "res=solve_with_QR(A,b)\n",
    "res_p=solve_with_numpyQR(A,b)\n",
    "print('solution from self-defined function:',res[0])\n",
    "print('solution from python defined function:',res_p[0])\n",
    "print('2-norm error from self-defined function:',res[1])\n",
    "print('2-norm error from python defined function:',res_p[1])\n",
    "print('difference in 2-norm:',res[1]-res_p[1])"
   ]
  },
  {
   "cell_type": "markdown",
   "id": "9673295a",
   "metadata": {},
   "source": [
    "(b)&emsp;\n",
    "$\\begin{bmatrix}\n",
    "1 & 2 & 2 \\\\\n",
    "2 & -1 & 2 \\\\\n",
    "3 & 1 & 1 \\\\\n",
    "1 & 1 & -1\n",
    "\\end{bmatrix}\\begin{bmatrix}\n",
    "x_1 \\\\\n",
    "x_2 \\\\\n",
    "x_3\n",
    "\\end{bmatrix}=\\begin{bmatrix}\n",
    "10 \\\\\n",
    "5 \\\\\n",
    "10 \\\\\n",
    "3\n",
    "\\end{bmatrix}$"
   ]
  },
  {
   "cell_type": "code",
   "execution_count": 40,
   "id": "c02f0c51",
   "metadata": {},
   "outputs": [
    {
     "name": "stdout",
     "output_type": "stream",
     "text": [
      "solution from self-defined function: [2.05882353 2.37254902 1.57843137]\n",
      "solution from python defined function: [2.05882353 2.37254902 1.57843137]\n",
      "2-norm error from self-defined function: 0.2214037213850231\n",
      "2-norm error from python defined function: 0.22140372138502276\n",
      "difference in 2-norm: 3.3306690738754696e-16\n"
     ]
    }
   ],
   "source": [
    "A=np.array([[1,2,2],[2,-1,2],[3,1,1],[1,1,-1]])\n",
    "b=np.array([10,5,10,3])\n",
    "res=solve_with_QR(A,b)\n",
    "res_p=solve_with_numpyQR(A,b)\n",
    "print('solution from self-defined function:',res[0])\n",
    "print('solution from python defined function:',res_p[0])\n",
    "print('2-norm error from self-defined function:',res[1])\n",
    "print('2-norm error from python defined function:',res_p[1])\n",
    "print('difference in 2-norm:',res[1]-res_p[1])"
   ]
  },
  {
   "cell_type": "markdown",
   "id": "6223590b",
   "metadata": {},
   "source": [
    "__The two solvers generate consistent results. The self-defined function can work.__"
   ]
  },
  {
   "cell_type": "markdown",
   "id": "4cb9299d",
   "metadata": {},
   "source": [
    "### Exercises Not from the Textbook\n",
    "1. Let’s generate our data in the following way: Start by sampling the cubic polynomial\n",
    "\n",
    "<center>$q(t)=-11+\\frac{55}{3}t-\\frac{17}{2}t^2+\\frac{7}{6}t^3$\n",
    "    \n",
    "at 33 equidistant points x between 0.9 and 4.1. Then add to these values 30% noise using Matlab’s\n",
    "random number generator rand, e.g. x + 0.3*rand(size(x)). After that, we ”forget” that the data\n",
    "came from q, and we work only with the data points.\n",
    "Program the following 3 approximations. In each case, plot the data and the obtained approximations.\n",
    "Which approximation makes more sense? Discuss.\n",
    "    \n",
    "(a) An interpolating polynomial of degree 32. Use e.g. Matlab’s function polyfit. (You don’t need to know how interpolation works).\n",
    "    \n",
    "(b) An interpolating cubic spline. Use e.g. Matlab’s function spline. (Again, you don’t need to know how splines work for this exercise).\n",
    "    \n",
    "(c) A cubic polynomial which best fits the data in the l2 sense, obtained by your own least squares function."
   ]
  },
  {
   "cell_type": "markdown",
   "id": "3698adda",
   "metadata": {},
   "source": [
    "### Generate data"
   ]
  },
  {
   "cell_type": "code",
   "execution_count": 41,
   "id": "447fdd08",
   "metadata": {},
   "outputs": [],
   "source": [
    "def q(t):\n",
    "    res=-11+((55/3)*t)-((17/2)*t**2)+((7/6)*t**3)\n",
    "    return res"
   ]
  },
  {
   "cell_type": "code",
   "execution_count": 42,
   "id": "cba3868a",
   "metadata": {},
   "outputs": [],
   "source": [
    "# To ensure have the same random numbers\n",
    "np.random.seed(124)\n",
    "\n",
    "t=np.linspace(0.9,4.1,33)\n",
    "\n",
    "noise=0.3*np.random.uniform(0.1,0.5,len(t))\n",
    "\n",
    "new_t=t+noise\n",
    "\n",
    "data=q(new_t)\n"
   ]
  },
  {
   "cell_type": "code",
   "execution_count": 43,
   "id": "8c4ff9f2",
   "metadata": {},
   "outputs": [
    {
     "data": {
      "text/plain": [
       "array([-0.29343539,  0.50801283,  0.77206061,  0.99835724,  1.17272846,\n",
       "        1.28166761,  1.35264998,  1.34237268,  1.2946156 ,  1.11807128,\n",
       "        0.99684248,  0.92251098,  0.66500022,  0.28980194,  0.20001288,\n",
       "        0.05990108, -0.14246154, -0.53682363, -0.7030545 , -0.92071591,\n",
       "       -1.00545741, -1.06365497, -1.14321338, -1.14456934, -1.11526288,\n",
       "       -0.93864365, -0.74480799, -0.28558947,  0.14643478,  0.6861354 ,\n",
       "        0.74193935,  1.27340527,  2.15473897])"
      ]
     },
     "execution_count": 43,
     "metadata": {},
     "output_type": "execute_result"
    }
   ],
   "source": [
    "data"
   ]
  },
  {
   "cell_type": "code",
   "execution_count": 44,
   "id": "b1585b96",
   "metadata": {},
   "outputs": [
    {
     "data": {
      "text/plain": [
       "[Text(0.5, 0, 't'), Text(0, 0.5, 'y')]"
      ]
     },
     "execution_count": 44,
     "metadata": {},
     "output_type": "execute_result"
    },
    {
     "data": {
      "image/png": "[encoded data removed]",
      "text/plain": [
       "<Figure size 640x480 with 1 Axes>"
      ]
     },
     "metadata": {},
     "output_type": "display_data"
    }
   ],
   "source": [
    "ax=sns.scatterplot(x=new_t, y=data)\n",
    "ax.set(xlabel='t', ylabel='y')"
   ]
  },
  {
   "cell_type": "code",
   "execution_count": 45,
   "id": "03aa6cbc",
   "metadata": {},
   "outputs": [
    {
     "name": "stderr",
     "output_type": "stream",
     "text": [
      "C:\\Users\\User\\anaconda3\\envs\\New_one\\lib\\site-packages\\IPython\\core\\interactiveshell.py:3398: RankWarning: Polyfit may be poorly conditioned\n",
      "  exec(code_obj, self.user_global_ns, self.user_ns)\n"
     ]
    },
    {
     "data": {
      "text/plain": [
       "<matplotlib.legend.Legend at 0x2489ecaa2b0>"
      ]
     },
     "execution_count": 45,
     "metadata": {},
     "output_type": "execute_result"
    },
    {
     "data": {
      "image/png": "[encoded data removed]",
      "text/plain": [
       "<Figure size 640x480 with 1 Axes>"
      ]
     },
     "metadata": {},
     "output_type": "display_data"
    }
   ],
   "source": [
    "# (a).\n",
    "model=np.polyfit(t,data,32)\n",
    "predict = np.poly1d(model)\n",
    "predict_poly = predict(t)\n",
    "\n",
    "ax=sns.scatterplot(x=t, y=data)\n",
    "\n",
    "# plotting the model\n",
    "mt=np.linspace(0.9,4.1,1000)\n",
    "predict_poly_m = predict(mt)\n",
    "ax=sns.lineplot(x=mt, y=predict_poly_m,color='green', linewidth=1)\n",
    "\n",
    "ax.set(xlabel='t', ylabel='y')\n",
    "plt.legend([\"Real Data\",\"Model\"])\n"
   ]
  },
  {
   "cell_type": "code",
   "execution_count": 46,
   "id": "6da89365",
   "metadata": {},
   "outputs": [
    {
     "data": {
      "text/plain": [
       "<matplotlib.legend.Legend at 0x2489ece12e0>"
      ]
     },
     "execution_count": 46,
     "metadata": {},
     "output_type": "execute_result"
    },
    {
     "data": {
      "image/png": "[encoded data removed]",
      "text/plain": [
       "<Figure size 640x480 with 1 Axes>"
      ]
     },
     "metadata": {},
     "output_type": "display_data"
    }
   ],
   "source": [
    "# (b)\n",
    "from scipy.interpolate import CubicSpline\n",
    "model = CubicSpline(t,data)\n",
    "predict_spline = model(t)\n",
    "ax=sns.scatterplot(x=t, y=data)\n",
    "\n",
    "# plotting the model\n",
    "mt=np.linspace(0.9,4.1,1000)\n",
    "predict_spline_m = model(mt)\n",
    "ax=sns.lineplot(x=mt, y=predict_spline_m,color='green', linewidth=1)\n",
    "\n",
    "ax.set(xlabel='t', ylabel='y')\n",
    "plt.legend([\"Real Data\",\"Model\"])"
   ]
  },
  {
   "cell_type": "markdown",
   "id": "281ac9ea",
   "metadata": {},
   "source": [
    "__The model (green line) fit better than polynomial__"
   ]
  },
  {
   "cell_type": "code",
   "execution_count": 47,
   "id": "bd85a949",
   "metadata": {},
   "outputs": [
    {
     "data": {
      "text/plain": [
       "<matplotlib.legend.Legend at 0x2489fd3f160>"
      ]
     },
     "execution_count": 47,
     "metadata": {},
     "output_type": "execute_result"
    },
    {
     "data": {
      "image/png": "[encoded data removed]",
      "text/plain": [
       "<Figure size 640x480 with 1 Axes>"
      ]
     },
     "metadata": {},
     "output_type": "display_data"
    }
   ],
   "source": [
    "# (c) fit in y=c1+c2*t+c3*t^2+c4*t^3\n",
    "b=data\n",
    "A=[]\n",
    "for i in new_t:\n",
    "    A.append([1,i,i**2,i**3])\n",
    "A=np.array(A,dtype=float)\n",
    "\n",
    "# Using QR factorization to find the least square solution\n",
    "c1,c2,c3,c4=solve_with_QR(A,b)[0]\n",
    "predidct_cubic_y=[float(c1+c2*i+c3*i**2+c4*i**3) for i in t]\n",
    "ax=sns.scatterplot(x=t, y=data)\n",
    "\n",
    "# plotting the model\n",
    "mt=np.linspace(0.9,4.1,1000)\n",
    "predidct_cubic_y_m=[float(c1+c2*i+c3*i**2+c4*i**3) for i in mt]\n",
    "ax=sns.lineplot(x=mt, y=predidct_cubic_y_m,color='green', linewidth=1)\n",
    "\n",
    "\n",
    "ax.set(xlabel='t', ylabel='y')\n",
    "plt.legend([\"Real Data\",\"Model\"])"
   ]
  },
  {
   "cell_type": "markdown",
   "id": "20c5878b",
   "metadata": {},
   "source": [
    "### The RMSE of the fit for the three models"
   ]
  },
  {
   "cell_type": "code",
   "execution_count": 48,
   "id": "60480fac",
   "metadata": {},
   "outputs": [
    {
     "name": "stdout",
     "output_type": "stream",
     "text": [
      "RMSE_a: 0.031286571546233856\n",
      "RMSE_b: 0.0\n",
      "RMSE_c: 0.2731162978527533\n"
     ]
    }
   ],
   "source": [
    "def RMSE(y,predict_y):\n",
    "    error=y-predict_y\n",
    "    sqrt_SE=np.linalg.norm(error)\n",
    "    RMSE=sqrt_SE/(error.shape[0]**0.5)\n",
    "    return RMSE\n",
    "\n",
    "print('RMSE_a:',RMSE(np.array(data),predict_poly))\n",
    "print('RMSE_b:',RMSE(np.array(data),predict_spline))\n",
    "print('RMSE_c:',RMSE(np.array(data),predidct_cubic_y))"
   ]
  },
  {
   "cell_type": "markdown",
   "id": "58a85e11",
   "metadata": {},
   "source": [
    "__Based on the above RMSE, the cubic spline model fit the best and the cubic polynomial fits the worst. From the above results, we know that increasing the degree of the model, helps fitting. However, a very high-degree polynomial model could perform worse than a low-degree model since overfitting might happen. According to the result, the cubic spline model makes more sense.__"
   ]
  }
 ],
 "metadata": {
  "kernelspec": {
   "display_name": "Python 3 (ipykernel)",
   "language": "python",
   "name": "python3"
  },
  "language_info": {
   "codemirror_mode": {
    "name": "ipython",
    "version": 3
   },
   "file_extension": ".py",
   "mimetype": "text/x-python",
   "name": "python",
   "nbconvert_exporter": "python",
   "pygments_lexer": "ipython3",
   "version": "3.9.13"
  }
 },
 "nbformat": 4,
 "nbformat_minor": 5
}
